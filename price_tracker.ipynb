{
 "metadata": {
  "language_info": {
   "codemirror_mode": {
    "name": "ipython",
    "version": 3
   },
   "file_extension": ".py",
   "mimetype": "text/x-python",
   "name": "python",
   "nbconvert_exporter": "python",
   "pygments_lexer": "ipython3",
   "version": "3.8.8-final"
  },
  "orig_nbformat": 2,
  "kernelspec": {
   "name": "python3",
   "display_name": "Python 3.8.8 64-bit ('pythonProject': conda)",
   "metadata": {
    "interpreter": {
     "hash": "5a3eac52da81300aab43f6b537a16aea0872557abc46ea6a70b924404b3260e0"
    }
   }
  }
 },
 "nbformat": 4,
 "nbformat_minor": 2,
 "cells": [
  {
   "cell_type": "code",
   "execution_count": 2,
   "metadata": {},
   "outputs": [],
   "source": [
    "import requests\n",
    "import re\n",
    "from requests_html import HTML\n",
    "from selenium import webdriver\n",
    "from selenium.webdriver.chrome.options import Options"
   ]
  },
  {
   "cell_type": "code",
   "execution_count": 6,
   "metadata": {},
   "outputs": [],
   "source": [
    "class ProductReport:\n",
    "    \n",
    "    def __init__(self, asin, title, price, star_rating, record_date):\n",
    "        self.asin = asin\n",
    "        self.title = title\n",
    "        self.price = price\n",
    "        self.record_date = record_date"
   ]
  },
  {
   "cell_type": "code",
   "execution_count": 3,
   "metadata": {},
   "outputs": [
    {
     "output_type": "stream",
     "name": "stdout",
     "text": [
      "Info zu diesem Artikel\nDieser Artikel passt für Ihre .\nGeben Sie Ihr Modell ein, um sicherzustellen, dass dieser Artikel passt.\nP.when(\"ReplacementPartsBulletLoader\").execute(function(module){ module.initializeDPX(); })\nExterner Highspeed-Speicher mit Kapazitäten von bis zu 2 TB im kompakten Format - kleiner als eine Visitenkarte\nBis zu fünfmal schneller als externe Festplatten mit Lesegeschwindigkeiten von bis zu 540 MB/s und Schreibgeschwindigkeiten von bis zu 520 MB/s\nDie beiden mitgelieferten USB-Kabel Typ-C auf C sowie Typ-C auf A ermöglichen die Verbindung zu PCs, Macs, Smartphones, Smart TVs und Spielekonsolen\nSicherheit für Ihre Daten: Übersteht Stürze aus bis zu zwei Metern Fallhöhe dank stoßfestem Aluminium-Gehäuse mit verstärkendem Innenrahmen\nOptional per App oder Software aktivierbare AES 256-Bit-Hardwareverschlüsselung: schützt Ihre Daten zuverlässig vor dem Zugriff Dritter\n› Weitere Produktdetails\n"
     ]
    }
   ],
   "source": [
    "options = Options()\n",
    "options.add_argument(\"--headless\")\n",
    "driver = webdriver.Chrome(options=options)\n",
    "url = \"https://www.amazon.de/Samsung-MU-PA1T0B-EU-Portable-Kabel/dp/B074M774TW/ref=sr_1_3?__mk_de_DE=ÅMÅŽÕÑ&dchild=1&keywords=festplatte%2Bextern%2Bssd%2Bsamsung&qid=1619787216&sr=8-3&th=1\"\n",
    "feature_lookup = \"#featurebullets_feature_div\"\n",
    "driver.get(url)\n",
    "body_el = driver.find_element_by_css_selector(\"body\")\n",
    "html_str = body_el.get_attribute(\"innerHTML\")\n",
    "html_obj = HTML(html=html_str)\n",
    "product_title = html_obj.find(feature_lookup, first=True).text\n",
    "print(product_title)"
   ]
  },
  {
   "cell_type": "code",
   "execution_count": 4,
   "metadata": {},
   "outputs": [
    {
     "output_type": "execute_result",
     "data": {
      "text/plain": [
       "selenium.webdriver.chrome.webdriver.WebDriver"
      ]
     },
     "metadata": {},
     "execution_count": 4
    }
   ],
   "source": [
    "type(driver)"
   ]
  },
  {
   "cell_type": "code",
   "execution_count": 144,
   "metadata": {},
   "outputs": [],
   "source": [
    "def setupDriver(url):\n",
    "    options = Options()\n",
    "    options.add_argument(\"--headless\")\n",
    "    driver = webdriver.Chrome(options=options)\n",
    "    driver.get(url)\n",
    "    body_el = driver.find_element_by_css_selector(\"body\")\n",
    "    html_str = body_el.get_attribute(\"innerHTML\")\n",
    "    html_obj = HTML(html=html_str)\n",
    "\n",
    "    return html_obj"
   ]
  },
  {
   "cell_type": "code",
   "execution_count": 154,
   "metadata": {},
   "outputs": [
    {
     "output_type": "stream",
     "name": "stdout",
     "text": [
      "Samsung MU-PA1T0B/EU Portable SSD T5 1 TB USB 3.1 Externe SSD Schwarz\n",
      "118,99 €\n",
      "B074M774TW\n",
      "[4.8, 5.0]\n",
      "9659\n"
     ]
    }
   ],
   "source": [
    "url = \"https://www.amazon.de/Samsung-MU-PA1T0B-EU-Portable-Kabel/dp/B074M774TW/ref=sr_1_3?__mk_de_DE=ÅMÅŽÕÑ&dchild=1&keywords=festplatte%2Bextern%2Bssd%2Bsamsung&qid=1619787216&sr=8-3&th=1\"\n",
    "\n",
    "def setupDriver(url):\n",
    "        options = Options()\n",
    "        options.add_argument(\"--headless\")\n",
    "        driver = webdriver.Chrome(options=options)\n",
    "        driver.get(url)\n",
    "        return driver\n",
    "\n",
    "class Amazon_Scraper:\n",
    "\n",
    "    def __init__(self, url):\n",
    "        self.url = url\n",
    "        self.title_id = 'productTitle'\n",
    "        self.price_id = 'priceblock_ourprice'\n",
    "        self.feature_id = 'featurebullets_feature_div'\n",
    "        self.productDetails_id = 'productDetails_detailBullets_sections1'\n",
    "        self.reviewsMedley_id = 'reviewsMedley'\n",
    "        self.numberOfReviews_id = 'acrCustomerReviewText'\n",
    "\n",
    "        self.asin_class = 'prodDetAttrValue'\n",
    "        self.starRating_class = 'a-size-medium'\n",
    "        \n",
    "\n",
    "        self.driver = setupDriver(self.url)\n",
    "\n",
    "    def get_title(self):\n",
    "        try:\n",
    "            return self.driver.find_element_by_id(self.title_id).text\n",
    "        except Exception as e:\n",
    "            print(e)\n",
    "            print(f\"Failed to title of the product - {self.driver.current_url}\")\n",
    "            return None\n",
    "\n",
    "    def get_price(self):\n",
    "        try:\n",
    "            return self.driver.find_element_by_id(self.price_id).text\n",
    "        except Exception as e:\n",
    "            print(e)\n",
    "            print(f\"Failed to price of the product - {self.driver.current_url}\")\n",
    "            return None\n",
    "    \n",
    "    def get_asin(self):\n",
    "        try:\n",
    "            driver = self.driver.find_element_by_id(self.productDetails_id)\n",
    "            return driver.find_element_by_class_name(self.asin_class).text\n",
    "        except Exception as e:\n",
    "            print(e)\n",
    "            print(f\"Failed to get ASIN of the product - {self.driver.current_url}\")\n",
    "            return None\n",
    "\n",
    "    def get_review_starsRate(self):\n",
    "        try:\n",
    "            driver = self.driver.find_element_by_id(self.reviewsMedley_id)\n",
    "            ratingRate = driver.find_element_by_class_name(self.starRating_class).text\n",
    "            ratingRate = re.findall(r\"[-+]?\\d*\\,\\d+|\\d+\", ratingRate)\n",
    "            ratingRate = [item.replace(',','.') for item in ratingRate]\n",
    "            ratingRate = [float(item) for item in ratingRate]\n",
    "            return ratingRate\n",
    "        except Exception as e:\n",
    "            print(e)\n",
    "            print(f\"Failed to get ASIN of the product - {self.driver.current_url}\")\n",
    "            return None\n",
    "\n",
    "    def get_numberOfReviews(self):\n",
    "        try:\n",
    "            numberOfReview = self.driver.find_element_by_id(self.numberOfReviews_id).text\n",
    "            numberOfReview = re.findall(r\"[-+]?\\d*\\.\\d+|\\d+\", numberOfReview)\n",
    "            numberOfReview = [item.replace('.','') for item in numberOfReview]\n",
    "            numberOfReview = [int(item) for item in numberOfReview]\n",
    "            return numberOfReview[0]\n",
    "        except Exception as e:\n",
    "            print(e)\n",
    "            print(f\"Failed to get ASIN of the product - {self.driver.current_url}\")\n",
    "            return None\n",
    "\n",
    "amazonScraper = Amazon_Scraper(url)\n",
    "a = amazonScraper.get_title()\n",
    "print(a)\n",
    "a = amazonScraper.get_price()\n",
    "print(a)\n",
    "a = amazonScraper.get_asin()\n",
    "print(a)\n",
    "a = amazonScraper.get_review_starsRate()\n",
    "print(a)\n",
    "a = amazonScraper.get_numberOfReviews()\n",
    "print(a)\n",
    "\n",
    "    "
   ]
  },
  {
   "cell_type": "code",
   "execution_count": 2,
   "metadata": {},
   "outputs": [],
   "source": [
    "from selenium import webdriver\n",
    "from selenium.webdriver.chrome.options import Options\n",
    "import time\n",
    "def Get_SetupDriver(url, headless=True):\n",
    "    options = Options()\n",
    "    if headless:\n",
    "        options.add_argument(\"--headless\")\n",
    "    driver = webdriver.Chrome(options=options)\n",
    "    driver.get(url)\n",
    "    return driver"
   ]
  },
  {
   "cell_type": "code",
   "execution_count": 48,
   "metadata": {},
   "outputs": [],
   "source": [
    "LOCALHOST = \"http://localhost:8086/\"\n",
    "USERNAME = \"kjn\"\n",
    "PASSWORD = \"parmesan007\"\n",
    "BUCKET_NAME = \"AMAZON\"\n",
    "browser = Get_SetupDriver(LOCALHOST, headless=False)\n",
    "\n",
    "time.sleep(1)\n",
    "username_el = browser.find_element_by_id(\"login\")\n",
    "username_el.send_keys(USERNAME)\n",
    "\n",
    "password_el = browser.find_element_by_id(\"password\")\n",
    "password_el.send_keys(PASSWORD)\n",
    "\n",
    "time.sleep(1)\n",
    "submit_btn_el = browser.find_element_by_id(\"submit-login\")\n",
    "submit_btn_el.click()\n",
    "\n",
    "time.sleep(2)\n",
    "browser.get(f\"http://localhost:8086/orgs/5fc0694877b42f65/data-explorer?bucket={BUCKET_NAME}\")\n",
    "\n",
    "# set filter to product_id\n",
    "time.sleep(1)\n",
    "element = browser.find_element_by_xpath(\"//*[@id=\\\"cf-app-wrapper\\\"]/div[3]/div[3]/div/div/div/div/div[3]/div/div/div/div[2]/div/div/div[1]/div[1]/div/div/div/div[2]/div[2]/div[1]/div/button/span[1]\")\n",
    "element.click()\n",
    "element = element.find_element_by_xpath(\"//*[@id=\\\"cf-app-wrapper\\\"]/div[3]/div[3]/div/div/div/div/div[3]/div/div/div/div[2]/div/div/div[1]/div[1]/div/div/div/div[2]/div[2]/div[1]/div/div/div/div/div/div/div/div/div[4]/div\")\n",
    "element.click()\n",
    "\n",
    "# click on ASIN\n",
    "time.sleep(1)\n",
    "element = browser.find_element_by_xpath(\"//*[@id=\\\"cf-app-wrapper\\\"]/div[3]/div[3]/div/div/div/div/div[3]/div/div/div/div[2]/div/div/div[1]/div[1]/div/div/div/div[2]/div[3]/div/div/div/div/div/div[1]/div[2]\")\n",
    "element.click()\n",
    "\n",
    "# click on price\n",
    "time.sleep(1)\n",
    "element = browser.find_element_by_xpath(\"//*[@id=\\\"cf-app-wrapper\\\"]/div[3]/div[3]/div/div/div/div/div[3]/div/div/div/div[2]/div/div/div[1]/div/div/div/div/div[3]/div[3]/div/div/div/div/div/div[2]/div[2]\")\n",
    "element.click()\n",
    "\n",
    "# click on submit\n",
    "time.sleep(1)\n",
    "element = browser.find_element_by_xpath(\"//*[@id=\\\"cf-app-wrapper\\\"]/div[3]/div[3]/div/div/div/div/div[3]/div/div/div/div[1]/div[2]/button[3]/span\")\n",
    "element.click()\n"
   ]
  },
  {
   "cell_type": "code",
   "execution_count": null,
   "metadata": {},
   "outputs": [],
   "source": []
  }
 ]
}